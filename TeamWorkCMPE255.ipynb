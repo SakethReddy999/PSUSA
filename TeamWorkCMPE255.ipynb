{
  "nbformat": 4,
  "nbformat_minor": 0,
  "metadata": {
    "colab": {
      "provenance": []
    },
    "kernelspec": {
      "name": "python3",
      "display_name": "Python 3"
    },
    "language_info": {
      "name": "python"
    }
  },
  "cells": [
    {
      "cell_type": "code",
      "execution_count": null,
      "metadata": {
        "id": "g6zs_06pfWKc"
      },
      "outputs": [],
      "source": [
        "import numpy as np\n",
        "import pandas as pd\n",
        "import matplotlib.pyplot as plt"
      ]
    },
    {
      "cell_type": "code",
      "source": [
        "df1=pd.read_csv('/content/US Police shootings in from 2015-22.csv')"
      ],
      "metadata": {
        "id": "vxxHbNrfh8Ww"
      },
      "execution_count": null,
      "outputs": []
    },
    {
      "cell_type": "code",
      "source": [
        "df1.columns"
      ],
      "metadata": {
        "colab": {
          "base_uri": "https://localhost:8080/"
        },
        "id": "9856unohisK4",
        "outputId": "d9ecdb07-e75e-4bbe-b4f7-7d7a05323ade"
      },
      "execution_count": null,
      "outputs": [
        {
          "output_type": "execute_result",
          "data": {
            "text/plain": [
              "Index(['id', 'name', 'date', 'manner_of_death', 'armed', 'age', 'gender',\n",
              "       'race', 'city', 'state', 'signs_of_mental_illness', 'threat_level',\n",
              "       'flee', 'body_camera', 'longitude', 'latitude', 'is_geocoding_exact'],\n",
              "      dtype='object')"
            ]
          },
          "metadata": {},
          "execution_count": 94
        }
      ]
    },
    {
      "cell_type": "code",
      "source": [
        "df1.info()"
      ],
      "metadata": {
        "colab": {
          "base_uri": "https://localhost:8080/"
        },
        "id": "8LZI8MuAiJod",
        "outputId": "a2b0bebb-bb4d-49a9-f0e8-44d84c8ed8bd"
      },
      "execution_count": null,
      "outputs": [
        {
          "output_type": "stream",
          "name": "stdout",
          "text": [
            "<class 'pandas.core.frame.DataFrame'>\n",
            "RangeIndex: 7682 entries, 0 to 7681\n",
            "Data columns (total 17 columns):\n",
            " #   Column                   Non-Null Count  Dtype  \n",
            "---  ------                   --------------  -----  \n",
            " 0   id                       7682 non-null   int64  \n",
            " 1   name                     7275 non-null   object \n",
            " 2   date                     7682 non-null   object \n",
            " 3   manner_of_death          7682 non-null   object \n",
            " 4   armed                    7473 non-null   object \n",
            " 5   age                      7210 non-null   float64\n",
            " 6   gender                   7663 non-null   object \n",
            " 7   race                     6244 non-null   object \n",
            " 8   city                     7682 non-null   object \n",
            " 9   state                    7682 non-null   object \n",
            " 10  signs_of_mental_illness  7682 non-null   bool   \n",
            " 11  threat_level             7682 non-null   object \n",
            " 12  flee                     6819 non-null   object \n",
            " 13  body_camera              7682 non-null   bool   \n",
            " 14  longitude                6847 non-null   float64\n",
            " 15  latitude                 6847 non-null   float64\n",
            " 16  is_geocoding_exact       7682 non-null   bool   \n",
            "dtypes: bool(3), float64(3), int64(1), object(10)\n",
            "memory usage: 862.8+ KB\n"
          ]
        }
      ]
    },
    {
      "cell_type": "code",
      "source": [
        "df1.head(5)"
      ],
      "metadata": {
        "colab": {
          "base_uri": "https://localhost:8080/",
          "height": 357
        },
        "id": "5DMySIsfiO0L",
        "outputId": "ed92ea43-b724-4d78-9ae8-d0bf76c79808"
      },
      "execution_count": null,
      "outputs": [
        {
          "output_type": "execute_result",
          "data": {
            "text/plain": [
              "   id                name        date   manner_of_death       armed   age  \\\n",
              "0   1          Tim Elliot  2015-01-02              shot         gun  53.0   \n",
              "1   2    Lewis Lee Lembke  2015-01-02              shot         gun  47.0   \n",
              "2   3  John Paul Quintero  2015-01-03  shot and Tasered     unarmed  23.0   \n",
              "3   4     Matthew Hoffman  2015-01-04              shot  toy weapon  32.0   \n",
              "4   5   Michael Rodriguez  2015-01-04              shot    nail gun  39.0   \n",
              "\n",
              "  gender race           city state  signs_of_mental_illness threat_level  \\\n",
              "0      M    A        Shelton    WA                     True       attack   \n",
              "1      M    W          Aloha    OR                    False       attack   \n",
              "2      M    H        Wichita    KS                    False        other   \n",
              "3      M    W  San Francisco    CA                     True       attack   \n",
              "4      M    H          Evans    CO                    False       attack   \n",
              "\n",
              "          flee  body_camera  longitude  latitude  is_geocoding_exact  \n",
              "0  Not fleeing        False   -123.122    47.247                True  \n",
              "1  Not fleeing        False   -122.892    45.487                True  \n",
              "2  Not fleeing        False    -97.281    37.695                True  \n",
              "3  Not fleeing        False   -122.422    37.763                True  \n",
              "4  Not fleeing        False   -104.692    40.384                True  "
            ],
            "text/html": [
              "\n",
              "  <div id=\"df-ebfee444-f42d-433e-beeb-c366c65432bc\">\n",
              "    <div class=\"colab-df-container\">\n",
              "      <div>\n",
              "<style scoped>\n",
              "    .dataframe tbody tr th:only-of-type {\n",
              "        vertical-align: middle;\n",
              "    }\n",
              "\n",
              "    .dataframe tbody tr th {\n",
              "        vertical-align: top;\n",
              "    }\n",
              "\n",
              "    .dataframe thead th {\n",
              "        text-align: right;\n",
              "    }\n",
              "</style>\n",
              "<table border=\"1\" class=\"dataframe\">\n",
              "  <thead>\n",
              "    <tr style=\"text-align: right;\">\n",
              "      <th></th>\n",
              "      <th>id</th>\n",
              "      <th>name</th>\n",
              "      <th>date</th>\n",
              "      <th>manner_of_death</th>\n",
              "      <th>armed</th>\n",
              "      <th>age</th>\n",
              "      <th>gender</th>\n",
              "      <th>race</th>\n",
              "      <th>city</th>\n",
              "      <th>state</th>\n",
              "      <th>signs_of_mental_illness</th>\n",
              "      <th>threat_level</th>\n",
              "      <th>flee</th>\n",
              "      <th>body_camera</th>\n",
              "      <th>longitude</th>\n",
              "      <th>latitude</th>\n",
              "      <th>is_geocoding_exact</th>\n",
              "    </tr>\n",
              "  </thead>\n",
              "  <tbody>\n",
              "    <tr>\n",
              "      <th>0</th>\n",
              "      <td>1</td>\n",
              "      <td>Tim Elliot</td>\n",
              "      <td>2015-01-02</td>\n",
              "      <td>shot</td>\n",
              "      <td>gun</td>\n",
              "      <td>53.0</td>\n",
              "      <td>M</td>\n",
              "      <td>A</td>\n",
              "      <td>Shelton</td>\n",
              "      <td>WA</td>\n",
              "      <td>True</td>\n",
              "      <td>attack</td>\n",
              "      <td>Not fleeing</td>\n",
              "      <td>False</td>\n",
              "      <td>-123.122</td>\n",
              "      <td>47.247</td>\n",
              "      <td>True</td>\n",
              "    </tr>\n",
              "    <tr>\n",
              "      <th>1</th>\n",
              "      <td>2</td>\n",
              "      <td>Lewis Lee Lembke</td>\n",
              "      <td>2015-01-02</td>\n",
              "      <td>shot</td>\n",
              "      <td>gun</td>\n",
              "      <td>47.0</td>\n",
              "      <td>M</td>\n",
              "      <td>W</td>\n",
              "      <td>Aloha</td>\n",
              "      <td>OR</td>\n",
              "      <td>False</td>\n",
              "      <td>attack</td>\n",
              "      <td>Not fleeing</td>\n",
              "      <td>False</td>\n",
              "      <td>-122.892</td>\n",
              "      <td>45.487</td>\n",
              "      <td>True</td>\n",
              "    </tr>\n",
              "    <tr>\n",
              "      <th>2</th>\n",
              "      <td>3</td>\n",
              "      <td>John Paul Quintero</td>\n",
              "      <td>2015-01-03</td>\n",
              "      <td>shot and Tasered</td>\n",
              "      <td>unarmed</td>\n",
              "      <td>23.0</td>\n",
              "      <td>M</td>\n",
              "      <td>H</td>\n",
              "      <td>Wichita</td>\n",
              "      <td>KS</td>\n",
              "      <td>False</td>\n",
              "      <td>other</td>\n",
              "      <td>Not fleeing</td>\n",
              "      <td>False</td>\n",
              "      <td>-97.281</td>\n",
              "      <td>37.695</td>\n",
              "      <td>True</td>\n",
              "    </tr>\n",
              "    <tr>\n",
              "      <th>3</th>\n",
              "      <td>4</td>\n",
              "      <td>Matthew Hoffman</td>\n",
              "      <td>2015-01-04</td>\n",
              "      <td>shot</td>\n",
              "      <td>toy weapon</td>\n",
              "      <td>32.0</td>\n",
              "      <td>M</td>\n",
              "      <td>W</td>\n",
              "      <td>San Francisco</td>\n",
              "      <td>CA</td>\n",
              "      <td>True</td>\n",
              "      <td>attack</td>\n",
              "      <td>Not fleeing</td>\n",
              "      <td>False</td>\n",
              "      <td>-122.422</td>\n",
              "      <td>37.763</td>\n",
              "      <td>True</td>\n",
              "    </tr>\n",
              "    <tr>\n",
              "      <th>4</th>\n",
              "      <td>5</td>\n",
              "      <td>Michael Rodriguez</td>\n",
              "      <td>2015-01-04</td>\n",
              "      <td>shot</td>\n",
              "      <td>nail gun</td>\n",
              "      <td>39.0</td>\n",
              "      <td>M</td>\n",
              "      <td>H</td>\n",
              "      <td>Evans</td>\n",
              "      <td>CO</td>\n",
              "      <td>False</td>\n",
              "      <td>attack</td>\n",
              "      <td>Not fleeing</td>\n",
              "      <td>False</td>\n",
              "      <td>-104.692</td>\n",
              "      <td>40.384</td>\n",
              "      <td>True</td>\n",
              "    </tr>\n",
              "  </tbody>\n",
              "</table>\n",
              "</div>\n",
              "      <button class=\"colab-df-convert\" onclick=\"convertToInteractive('df-ebfee444-f42d-433e-beeb-c366c65432bc')\"\n",
              "              title=\"Convert this dataframe to an interactive table.\"\n",
              "              style=\"display:none;\">\n",
              "        \n",
              "  <svg xmlns=\"http://www.w3.org/2000/svg\" height=\"24px\"viewBox=\"0 0 24 24\"\n",
              "       width=\"24px\">\n",
              "    <path d=\"M0 0h24v24H0V0z\" fill=\"none\"/>\n",
              "    <path d=\"M18.56 5.44l.94 2.06.94-2.06 2.06-.94-2.06-.94-.94-2.06-.94 2.06-2.06.94zm-11 1L8.5 8.5l.94-2.06 2.06-.94-2.06-.94L8.5 2.5l-.94 2.06-2.06.94zm10 10l.94 2.06.94-2.06 2.06-.94-2.06-.94-.94-2.06-.94 2.06-2.06.94z\"/><path d=\"M17.41 7.96l-1.37-1.37c-.4-.4-.92-.59-1.43-.59-.52 0-1.04.2-1.43.59L10.3 9.45l-7.72 7.72c-.78.78-.78 2.05 0 2.83L4 21.41c.39.39.9.59 1.41.59.51 0 1.02-.2 1.41-.59l7.78-7.78 2.81-2.81c.8-.78.8-2.07 0-2.86zM5.41 20L4 18.59l7.72-7.72 1.47 1.35L5.41 20z\"/>\n",
              "  </svg>\n",
              "      </button>\n",
              "      \n",
              "  <style>\n",
              "    .colab-df-container {\n",
              "      display:flex;\n",
              "      flex-wrap:wrap;\n",
              "      gap: 12px;\n",
              "    }\n",
              "\n",
              "    .colab-df-convert {\n",
              "      background-color: #E8F0FE;\n",
              "      border: none;\n",
              "      border-radius: 50%;\n",
              "      cursor: pointer;\n",
              "      display: none;\n",
              "      fill: #1967D2;\n",
              "      height: 32px;\n",
              "      padding: 0 0 0 0;\n",
              "      width: 32px;\n",
              "    }\n",
              "\n",
              "    .colab-df-convert:hover {\n",
              "      background-color: #E2EBFA;\n",
              "      box-shadow: 0px 1px 2px rgba(60, 64, 67, 0.3), 0px 1px 3px 1px rgba(60, 64, 67, 0.15);\n",
              "      fill: #174EA6;\n",
              "    }\n",
              "\n",
              "    [theme=dark] .colab-df-convert {\n",
              "      background-color: #3B4455;\n",
              "      fill: #D2E3FC;\n",
              "    }\n",
              "\n",
              "    [theme=dark] .colab-df-convert:hover {\n",
              "      background-color: #434B5C;\n",
              "      box-shadow: 0px 1px 3px 1px rgba(0, 0, 0, 0.15);\n",
              "      filter: drop-shadow(0px 1px 2px rgba(0, 0, 0, 0.3));\n",
              "      fill: #FFFFFF;\n",
              "    }\n",
              "  </style>\n",
              "\n",
              "      <script>\n",
              "        const buttonEl =\n",
              "          document.querySelector('#df-ebfee444-f42d-433e-beeb-c366c65432bc button.colab-df-convert');\n",
              "        buttonEl.style.display =\n",
              "          google.colab.kernel.accessAllowed ? 'block' : 'none';\n",
              "\n",
              "        async function convertToInteractive(key) {\n",
              "          const element = document.querySelector('#df-ebfee444-f42d-433e-beeb-c366c65432bc');\n",
              "          const dataTable =\n",
              "            await google.colab.kernel.invokeFunction('convertToInteractive',\n",
              "                                                     [key], {});\n",
              "          if (!dataTable) return;\n",
              "\n",
              "          const docLinkHtml = 'Like what you see? Visit the ' +\n",
              "            '<a target=\"_blank\" href=https://colab.research.google.com/notebooks/data_table.ipynb>data table notebook</a>'\n",
              "            + ' to learn more about interactive tables.';\n",
              "          element.innerHTML = '';\n",
              "          dataTable['output_type'] = 'display_data';\n",
              "          await google.colab.output.renderOutput(dataTable, element);\n",
              "          const docLink = document.createElement('div');\n",
              "          docLink.innerHTML = docLinkHtml;\n",
              "          element.appendChild(docLink);\n",
              "        }\n",
              "      </script>\n",
              "    </div>\n",
              "  </div>\n",
              "  "
            ]
          },
          "metadata": {},
          "execution_count": 96
        }
      ]
    },
    {
      "cell_type": "code",
      "source": [
        "df1.shape"
      ],
      "metadata": {
        "colab": {
          "base_uri": "https://localhost:8080/"
        },
        "id": "FbI4RotAiSMC",
        "outputId": "936af659-b588-48a3-a36b-229b943ca5d4"
      },
      "execution_count": null,
      "outputs": [
        {
          "output_type": "execute_result",
          "data": {
            "text/plain": [
              "(7682, 17)"
            ]
          },
          "metadata": {},
          "execution_count": 97
        }
      ]
    },
    {
      "cell_type": "code",
      "source": [
        "df1.describe()"
      ],
      "metadata": {
        "colab": {
          "base_uri": "https://localhost:8080/",
          "height": 300
        },
        "id": "o9NyeRtkiTRM",
        "outputId": "4709bd0b-4a6b-4607-9a02-79d619165439"
      },
      "execution_count": null,
      "outputs": [
        {
          "output_type": "execute_result",
          "data": {
            "text/plain": [
              "                id          age    longitude     latitude\n",
              "count  7682.000000  7210.000000  6847.000000  6847.000000\n",
              "mean   3841.500000    37.161997   -97.057301    36.668453\n",
              "std    2217.746717    12.951797    16.593304     5.394855\n",
              "min       1.000000     2.000000  -160.007000    19.498000\n",
              "25%    1921.250000    27.000000  -112.040500    33.478500\n",
              "50%    3841.500000    35.000000   -94.249000    36.095000\n",
              "75%    5761.750000    45.000000   -83.080500    40.026500\n",
              "max    7682.000000    92.000000   -67.867000    71.301000"
            ],
            "text/html": [
              "\n",
              "  <div id=\"df-8277e174-919a-4057-8af7-59e66387ab01\">\n",
              "    <div class=\"colab-df-container\">\n",
              "      <div>\n",
              "<style scoped>\n",
              "    .dataframe tbody tr th:only-of-type {\n",
              "        vertical-align: middle;\n",
              "    }\n",
              "\n",
              "    .dataframe tbody tr th {\n",
              "        vertical-align: top;\n",
              "    }\n",
              "\n",
              "    .dataframe thead th {\n",
              "        text-align: right;\n",
              "    }\n",
              "</style>\n",
              "<table border=\"1\" class=\"dataframe\">\n",
              "  <thead>\n",
              "    <tr style=\"text-align: right;\">\n",
              "      <th></th>\n",
              "      <th>id</th>\n",
              "      <th>age</th>\n",
              "      <th>longitude</th>\n",
              "      <th>latitude</th>\n",
              "    </tr>\n",
              "  </thead>\n",
              "  <tbody>\n",
              "    <tr>\n",
              "      <th>count</th>\n",
              "      <td>7682.000000</td>\n",
              "      <td>7210.000000</td>\n",
              "      <td>6847.000000</td>\n",
              "      <td>6847.000000</td>\n",
              "    </tr>\n",
              "    <tr>\n",
              "      <th>mean</th>\n",
              "      <td>3841.500000</td>\n",
              "      <td>37.161997</td>\n",
              "      <td>-97.057301</td>\n",
              "      <td>36.668453</td>\n",
              "    </tr>\n",
              "    <tr>\n",
              "      <th>std</th>\n",
              "      <td>2217.746717</td>\n",
              "      <td>12.951797</td>\n",
              "      <td>16.593304</td>\n",
              "      <td>5.394855</td>\n",
              "    </tr>\n",
              "    <tr>\n",
              "      <th>min</th>\n",
              "      <td>1.000000</td>\n",
              "      <td>2.000000</td>\n",
              "      <td>-160.007000</td>\n",
              "      <td>19.498000</td>\n",
              "    </tr>\n",
              "    <tr>\n",
              "      <th>25%</th>\n",
              "      <td>1921.250000</td>\n",
              "      <td>27.000000</td>\n",
              "      <td>-112.040500</td>\n",
              "      <td>33.478500</td>\n",
              "    </tr>\n",
              "    <tr>\n",
              "      <th>50%</th>\n",
              "      <td>3841.500000</td>\n",
              "      <td>35.000000</td>\n",
              "      <td>-94.249000</td>\n",
              "      <td>36.095000</td>\n",
              "    </tr>\n",
              "    <tr>\n",
              "      <th>75%</th>\n",
              "      <td>5761.750000</td>\n",
              "      <td>45.000000</td>\n",
              "      <td>-83.080500</td>\n",
              "      <td>40.026500</td>\n",
              "    </tr>\n",
              "    <tr>\n",
              "      <th>max</th>\n",
              "      <td>7682.000000</td>\n",
              "      <td>92.000000</td>\n",
              "      <td>-67.867000</td>\n",
              "      <td>71.301000</td>\n",
              "    </tr>\n",
              "  </tbody>\n",
              "</table>\n",
              "</div>\n",
              "      <button class=\"colab-df-convert\" onclick=\"convertToInteractive('df-8277e174-919a-4057-8af7-59e66387ab01')\"\n",
              "              title=\"Convert this dataframe to an interactive table.\"\n",
              "              style=\"display:none;\">\n",
              "        \n",
              "  <svg xmlns=\"http://www.w3.org/2000/svg\" height=\"24px\"viewBox=\"0 0 24 24\"\n",
              "       width=\"24px\">\n",
              "    <path d=\"M0 0h24v24H0V0z\" fill=\"none\"/>\n",
              "    <path d=\"M18.56 5.44l.94 2.06.94-2.06 2.06-.94-2.06-.94-.94-2.06-.94 2.06-2.06.94zm-11 1L8.5 8.5l.94-2.06 2.06-.94-2.06-.94L8.5 2.5l-.94 2.06-2.06.94zm10 10l.94 2.06.94-2.06 2.06-.94-2.06-.94-.94-2.06-.94 2.06-2.06.94z\"/><path d=\"M17.41 7.96l-1.37-1.37c-.4-.4-.92-.59-1.43-.59-.52 0-1.04.2-1.43.59L10.3 9.45l-7.72 7.72c-.78.78-.78 2.05 0 2.83L4 21.41c.39.39.9.59 1.41.59.51 0 1.02-.2 1.41-.59l7.78-7.78 2.81-2.81c.8-.78.8-2.07 0-2.86zM5.41 20L4 18.59l7.72-7.72 1.47 1.35L5.41 20z\"/>\n",
              "  </svg>\n",
              "      </button>\n",
              "      \n",
              "  <style>\n",
              "    .colab-df-container {\n",
              "      display:flex;\n",
              "      flex-wrap:wrap;\n",
              "      gap: 12px;\n",
              "    }\n",
              "\n",
              "    .colab-df-convert {\n",
              "      background-color: #E8F0FE;\n",
              "      border: none;\n",
              "      border-radius: 50%;\n",
              "      cursor: pointer;\n",
              "      display: none;\n",
              "      fill: #1967D2;\n",
              "      height: 32px;\n",
              "      padding: 0 0 0 0;\n",
              "      width: 32px;\n",
              "    }\n",
              "\n",
              "    .colab-df-convert:hover {\n",
              "      background-color: #E2EBFA;\n",
              "      box-shadow: 0px 1px 2px rgba(60, 64, 67, 0.3), 0px 1px 3px 1px rgba(60, 64, 67, 0.15);\n",
              "      fill: #174EA6;\n",
              "    }\n",
              "\n",
              "    [theme=dark] .colab-df-convert {\n",
              "      background-color: #3B4455;\n",
              "      fill: #D2E3FC;\n",
              "    }\n",
              "\n",
              "    [theme=dark] .colab-df-convert:hover {\n",
              "      background-color: #434B5C;\n",
              "      box-shadow: 0px 1px 3px 1px rgba(0, 0, 0, 0.15);\n",
              "      filter: drop-shadow(0px 1px 2px rgba(0, 0, 0, 0.3));\n",
              "      fill: #FFFFFF;\n",
              "    }\n",
              "  </style>\n",
              "\n",
              "      <script>\n",
              "        const buttonEl =\n",
              "          document.querySelector('#df-8277e174-919a-4057-8af7-59e66387ab01 button.colab-df-convert');\n",
              "        buttonEl.style.display =\n",
              "          google.colab.kernel.accessAllowed ? 'block' : 'none';\n",
              "\n",
              "        async function convertToInteractive(key) {\n",
              "          const element = document.querySelector('#df-8277e174-919a-4057-8af7-59e66387ab01');\n",
              "          const dataTable =\n",
              "            await google.colab.kernel.invokeFunction('convertToInteractive',\n",
              "                                                     [key], {});\n",
              "          if (!dataTable) return;\n",
              "\n",
              "          const docLinkHtml = 'Like what you see? Visit the ' +\n",
              "            '<a target=\"_blank\" href=https://colab.research.google.com/notebooks/data_table.ipynb>data table notebook</a>'\n",
              "            + ' to learn more about interactive tables.';\n",
              "          element.innerHTML = '';\n",
              "          dataTable['output_type'] = 'display_data';\n",
              "          await google.colab.output.renderOutput(dataTable, element);\n",
              "          const docLink = document.createElement('div');\n",
              "          docLink.innerHTML = docLinkHtml;\n",
              "          element.appendChild(docLink);\n",
              "        }\n",
              "      </script>\n",
              "    </div>\n",
              "  </div>\n",
              "  "
            ]
          },
          "metadata": {},
          "execution_count": 98
        }
      ]
    },
    {
      "cell_type": "code",
      "source": [
        "df1.isnull().sum()"
      ],
      "metadata": {
        "colab": {
          "base_uri": "https://localhost:8080/"
        },
        "id": "elVOaGZYiZTk",
        "outputId": "5d41848f-689b-445a-d3df-2a6fcf4fa70e"
      },
      "execution_count": null,
      "outputs": [
        {
          "output_type": "execute_result",
          "data": {
            "text/plain": [
              "id                            0\n",
              "name                        407\n",
              "date                          0\n",
              "manner_of_death               0\n",
              "armed                       209\n",
              "age                         472\n",
              "gender                       19\n",
              "race                       1438\n",
              "city                          0\n",
              "state                         0\n",
              "signs_of_mental_illness       0\n",
              "threat_level                  0\n",
              "flee                        863\n",
              "body_camera                   0\n",
              "longitude                   835\n",
              "latitude                    835\n",
              "is_geocoding_exact            0\n",
              "dtype: int64"
            ]
          },
          "metadata": {},
          "execution_count": 99
        }
      ]
    },
    {
      "cell_type": "code",
      "source": [
        "df1['name'].head(10)"
      ],
      "metadata": {
        "colab": {
          "base_uri": "https://localhost:8080/"
        },
        "id": "3CnT5lkOib0L",
        "outputId": "38588f60-dd3b-4e50-c23c-c9d08ea68a93"
      },
      "execution_count": null,
      "outputs": [
        {
          "output_type": "execute_result",
          "data": {
            "text/plain": [
              "0             Tim Elliot\n",
              "1       Lewis Lee Lembke\n",
              "2     John Paul Quintero\n",
              "3        Matthew Hoffman\n",
              "4      Michael Rodriguez\n",
              "5      Kenneth Joe Brown\n",
              "6    Kenneth Arnold Buck\n",
              "7          Brock Nichols\n",
              "8          Autumn Steele\n",
              "9        Leslie Sapp III\n",
              "Name: name, dtype: object"
            ]
          },
          "metadata": {},
          "execution_count": 100
        }
      ]
    },
    {
      "cell_type": "code",
      "source": [
        "nullPercentage = df1.isnull().sum()/df1.shape[0]*100\n",
        "nullPercentage.plot(kind='bar')\n",
        "plt.title(\"Null value percentage in each column\")\n",
        "plt.show()"
      ],
      "metadata": {
        "colab": {
          "base_uri": "https://localhost:8080/",
          "height": 389
        },
        "id": "mIsb0fAkq_HV",
        "outputId": "bd6198b9-826d-42ca-de7a-8f3180b4ddf3"
      },
      "execution_count": null,
      "outputs": [
        {
          "output_type": "display_data",
          "data": {
            "text/plain": [
              "<Figure size 432x288 with 1 Axes>"
            ],
            "image/png": "[encoded data removed]"
          },
          "metadata": {
            "needs_background": "light"
          }
        }
      ]
    },
    {
      "cell_type": "code",
      "source": [
        "df1['age'].median()"
      ],
      "metadata": {
        "colab": {
          "base_uri": "https://localhost:8080/"
        },
        "id": "1zAEyIrGqGVl",
        "outputId": "f1d753b7-0d74-4363-d354-f684ca314e9d"
      },
      "execution_count": null,
      "outputs": [
        {
          "output_type": "execute_result",
          "data": {
            "text/plain": [
              "35.0"
            ]
          },
          "metadata": {},
          "execution_count": 102
        }
      ]
    },
    {
      "cell_type": "code",
      "source": [
        "plt.hist(df1['age'])"
      ],
      "metadata": {
        "colab": {
          "base_uri": "https://localhost:8080/",
          "height": 334
        },
        "id": "FZDro8XIosvg",
        "outputId": "17900541-4c91-4346-a225-62fc4245f374"
      },
      "execution_count": null,
      "outputs": [
        {
          "output_type": "execute_result",
          "data": {
            "text/plain": [
              "(array([   4.,  356., 1705., 2118., 1367.,  918.,  510.,  167.,   49.,\n",
              "          16.]),\n",
              " array([ 2., 11., 20., 29., 38., 47., 56., 65., 74., 83., 92.]),\n",
              " <a list of 10 Patch objects>)"
            ]
          },
          "metadata": {},
          "execution_count": 103
        },
        {
          "output_type": "display_data",
          "data": {
            "text/plain": [
              "<Figure size 432x288 with 1 Axes>"
            ],
            "image/png": "[encoded data removed]"
          },
          "metadata": {
            "needs_background": "light"
          }
        }
      ]
    },
    {
      "cell_type": "markdown",
      "source": [
        "2nd DataSet"
      ],
      "metadata": {
        "id": "8bNtbL5vl4r4"
      }
    },
    {
      "cell_type": "code",
      "source": [
        "df2 = pd.read_csv('/content/Police_Encounters.csv')"
      ],
      "metadata": {
        "colab": {
          "base_uri": "https://localhost:8080/"
        },
        "id": "ex0KVrPYk6KA",
        "outputId": "f04dfbc1-67a1-4c85-e6a5-ba177c7f8fcb"
      },
      "execution_count": null,
      "outputs": [
        {
          "output_type": "stream",
          "name": "stderr",
          "text": [
            "/usr/local/lib/python3.7/dist-packages/IPython/core/interactiveshell.py:3326: DtypeWarning: Columns (2,15) have mixed types.Specify dtype option on import or set low_memory=False.\n",
            "  exec(code_obj, self.user_global_ns, self.user_ns)\n"
          ]
        }
      ]
    },
    {
      "cell_type": "code",
      "source": [
        "df2.columns"
      ],
      "metadata": {
        "colab": {
          "base_uri": "https://localhost:8080/"
        },
        "id": "wL6zR9vpluZI",
        "outputId": "be871e75-cd62-49ec-e907-57337a476c5b"
      },
      "execution_count": null,
      "outputs": [
        {
          "output_type": "execute_result",
          "data": {
            "text/plain": [
              "Index(['Unique ID', 'Name', 'Age', 'Gender', 'Race', 'Race with imputations',\n",
              "       'Imputation probability', 'URL of image (PLS NO HOTLINKS)',\n",
              "       ' Date of injury resulting in death (month/day/year)',\n",
              "       'Location of injury (address)', 'Location of death (city)', 'State',\n",
              "       'Location of death (zip code)', 'Location of death (county)',\n",
              "       'Full Address', 'Latitude', 'Longitude', 'Agency or agencies involved',\n",
              "       'Highest level of force', 'UID Temporary', 'Name Temporary',\n",
              "       'Armed/Unarmed', 'Alleged weapon', 'Aggressive physical movement',\n",
              "       'Fleeing/Not fleeing', 'Description Temp', 'URL Temp',\n",
              "       'Brief description',\n",
              "       'Dispositions/Exclusions INTERNAL USE, NOT FOR ANALYSIS',\n",
              "       'Intended use of force (Developing)', 'Supporting document link',\n",
              "       'Foreknowledge of mental illness? INTERNAL USE, NOT FOR ANALYSIS',\n",
              "       'Unnamed: 32', 'Unnamed: 33', 'Unique ID formula',\n",
              "       'Unique identifier (redundant)'],\n",
              "      dtype='object')"
            ]
          },
          "metadata": {},
          "execution_count": 105
        }
      ]
    },
    {
      "cell_type": "code",
      "source": [
        "df2.info()"
      ],
      "metadata": {
        "colab": {
          "base_uri": "https://localhost:8080/"
        },
        "id": "gyyF6ZTPmThZ",
        "outputId": "0561e9cf-8c54-4947-8819-04b10a42ab55"
      },
      "execution_count": null,
      "outputs": [
        {
          "output_type": "stream",
          "name": "stdout",
          "text": [
            "<class 'pandas.core.frame.DataFrame'>\n",
            "RangeIndex: 31498 entries, 0 to 31497\n",
            "Data columns (total 36 columns):\n",
            " #   Column                                                           Non-Null Count  Dtype  \n",
            "---  ------                                                           --------------  -----  \n",
            " 0   Unique ID                                                        31497 non-null  float64\n",
            " 1   Name                                                             31498 non-null  object \n",
            " 2   Age                                                              30277 non-null  object \n",
            " 3   Gender                                                           31354 non-null  object \n",
            " 4   Race                                                             31497 non-null  object \n",
            " 5   Race with imputations                                            30629 non-null  object \n",
            " 6   Imputation probability                                           30613 non-null  object \n",
            " 7   URL of image (PLS NO HOTLINKS)                                   14725 non-null  object \n",
            " 8    Date of injury resulting in death (month/day/year)              31498 non-null  object \n",
            " 9   Location of injury (address)                                     30941 non-null  object \n",
            " 10  Location of death (city)                                         31462 non-null  object \n",
            " 11  State                                                            31497 non-null  object \n",
            " 12  Location of death (zip code)                                     31316 non-null  float64\n",
            " 13  Location of death (county)                                       31483 non-null  object \n",
            " 14  Full Address                                                     31497 non-null  object \n",
            " 15  Latitude                                                         31497 non-null  object \n",
            " 16  Longitude                                                        31497 non-null  float64\n",
            " 17  Agency or agencies involved                                      31420 non-null  object \n",
            " 18  Highest level of force                                           31494 non-null  object \n",
            " 19  UID Temporary                                                    5529 non-null   float64\n",
            " 20  Name Temporary                                                   5529 non-null   object \n",
            " 21  Armed/Unarmed                                                    17079 non-null  object \n",
            " 22  Alleged weapon                                                   17077 non-null  object \n",
            " 23  Aggressive physical movement                                     17080 non-null  object \n",
            " 24  Fleeing/Not fleeing                                              17079 non-null  object \n",
            " 25  Description Temp                                                 4067 non-null   object \n",
            " 26  URL Temp                                                         3217 non-null   object \n",
            " 27  Brief description                                                31496 non-null  object \n",
            " 28  Dispositions/Exclusions INTERNAL USE, NOT FOR ANALYSIS           31495 non-null  object \n",
            " 29  Intended use of force (Developing)                               31495 non-null  object \n",
            " 30  Supporting document link                                         31496 non-null  object \n",
            " 31  Foreknowledge of mental illness? INTERNAL USE, NOT FOR ANALYSIS  31436 non-null  object \n",
            " 32  Unnamed: 32                                                      0 non-null      float64\n",
            " 33  Unnamed: 33                                                      1 non-null      float64\n",
            " 34  Unique ID formula                                                2 non-null      float64\n",
            " 35  Unique identifier (redundant)                                    31497 non-null  float64\n",
            "dtypes: float64(8), object(28)\n",
            "memory usage: 8.7+ MB\n"
          ]
        }
      ]
    },
    {
      "cell_type": "code",
      "source": [
        "df2.describe()"
      ],
      "metadata": {
        "colab": {
          "base_uri": "https://localhost:8080/",
          "height": 362
        },
        "id": "HM0WhY-VmWSL",
        "outputId": "7e65f713-97ef-4a5b-bec8-8fdf3ff22c40"
      },
      "execution_count": null,
      "outputs": [
        {
          "output_type": "execute_result",
          "data": {
            "text/plain": [
              "          Unique ID  Location of death (zip code)     Longitude  \\\n",
              "count  31497.000000                  31316.000000  31497.000000   \n",
              "mean   15749.000000                  58352.532475    -95.400075   \n",
              "std     9092.545051                  27966.034210     16.303295   \n",
              "min        1.000000                   1013.000000   -165.591880   \n",
              "25%     7875.000000                  33147.000000   -110.998549   \n",
              "50%    15749.000000                  60649.000000    -90.559289   \n",
              "75%    23623.000000                  85033.000000    -82.573289   \n",
              "max    31497.000000                  99921.000000    -67.266033   \n",
              "\n",
              "       UID Temporary  Unnamed: 32  Unnamed: 33  Unique ID formula  \\\n",
              "count    5529.000000          0.0          1.0           2.000000   \n",
              "mean    15464.082293          NaN      10895.0       29497.000000   \n",
              "std      6559.718961          NaN          NaN        2828.427125   \n",
              "min      9759.000000          NaN      10895.0       27497.000000   \n",
              "25%     11156.000000          NaN      10895.0       28497.000000   \n",
              "50%     12549.000000          NaN      10895.0       29497.000000   \n",
              "75%     19240.000000          NaN      10895.0       30497.000000   \n",
              "max     30340.000000          NaN      10895.0       31497.000000   \n",
              "\n",
              "       Unique identifier (redundant)  \n",
              "count                   31497.000000  \n",
              "mean                    15749.000000  \n",
              "std                      9092.545051  \n",
              "min                         1.000000  \n",
              "25%                      7875.000000  \n",
              "50%                     15749.000000  \n",
              "75%                     23623.000000  \n",
              "max                     31497.000000  "
            ],
            "text/html": [
              "\n",
              "  <div id=\"df-3588fe1f-8c8c-4cb6-a826-1f3b8403ebde\">\n",
              "    <div class=\"colab-df-container\">\n",
              "      <div>\n",
              "<style scoped>\n",
              "    .dataframe tbody tr th:only-of-type {\n",
              "        vertical-align: middle;\n",
              "    }\n",
              "\n",
              "    .dataframe tbody tr th {\n",
              "        vertical-align: top;\n",
              "    }\n",
              "\n",
              "    .dataframe thead th {\n",
              "        text-align: right;\n",
              "    }\n",
              "</style>\n",
              "<table border=\"1\" class=\"dataframe\">\n",
              "  <thead>\n",
              "    <tr style=\"text-align: right;\">\n",
              "      <th></th>\n",
              "      <th>Unique ID</th>\n",
              "      <th>Location of death (zip code)</th>\n",
              "      <th>Longitude</th>\n",
              "      <th>UID Temporary</th>\n",
              "      <th>Unnamed: 32</th>\n",
              "      <th>Unnamed: 33</th>\n",
              "      <th>Unique ID formula</th>\n",
              "      <th>Unique identifier (redundant)</th>\n",
              "    </tr>\n",
              "  </thead>\n",
              "  <tbody>\n",
              "    <tr>\n",
              "      <th>count</th>\n",
              "      <td>31497.000000</td>\n",
              "      <td>31316.000000</td>\n",
              "      <td>31497.000000</td>\n",
              "      <td>5529.000000</td>\n",
              "      <td>0.0</td>\n",
              "      <td>1.0</td>\n",
              "      <td>2.000000</td>\n",
              "      <td>31497.000000</td>\n",
              "    </tr>\n",
              "    <tr>\n",
              "      <th>mean</th>\n",
              "      <td>15749.000000</td>\n",
              "      <td>58352.532475</td>\n",
              "      <td>-95.400075</td>\n",
              "      <td>15464.082293</td>\n",
              "      <td>NaN</td>\n",
              "      <td>10895.0</td>\n",
              "      <td>29497.000000</td>\n",
              "      <td>15749.000000</td>\n",
              "    </tr>\n",
              "    <tr>\n",
              "      <th>std</th>\n",
              "      <td>9092.545051</td>\n",
              "      <td>27966.034210</td>\n",
              "      <td>16.303295</td>\n",
              "      <td>6559.718961</td>\n",
              "      <td>NaN</td>\n",
              "      <td>NaN</td>\n",
              "      <td>2828.427125</td>\n",
              "      <td>9092.545051</td>\n",
              "    </tr>\n",
              "    <tr>\n",
              "      <th>min</th>\n",
              "      <td>1.000000</td>\n",
              "      <td>1013.000000</td>\n",
              "      <td>-165.591880</td>\n",
              "      <td>9759.000000</td>\n",
              "      <td>NaN</td>\n",
              "      <td>10895.0</td>\n",
              "      <td>27497.000000</td>\n",
              "      <td>1.000000</td>\n",
              "    </tr>\n",
              "    <tr>\n",
              "      <th>25%</th>\n",
              "      <td>7875.000000</td>\n",
              "      <td>33147.000000</td>\n",
              "      <td>-110.998549</td>\n",
              "      <td>11156.000000</td>\n",
              "      <td>NaN</td>\n",
              "      <td>10895.0</td>\n",
              "      <td>28497.000000</td>\n",
              "      <td>7875.000000</td>\n",
              "    </tr>\n",
              "    <tr>\n",
              "      <th>50%</th>\n",
              "      <td>15749.000000</td>\n",
              "      <td>60649.000000</td>\n",
              "      <td>-90.559289</td>\n",
              "      <td>12549.000000</td>\n",
              "      <td>NaN</td>\n",
              "      <td>10895.0</td>\n",
              "      <td>29497.000000</td>\n",
              "      <td>15749.000000</td>\n",
              "    </tr>\n",
              "    <tr>\n",
              "      <th>75%</th>\n",
              "      <td>23623.000000</td>\n",
              "      <td>85033.000000</td>\n",
              "      <td>-82.573289</td>\n",
              "      <td>19240.000000</td>\n",
              "      <td>NaN</td>\n",
              "      <td>10895.0</td>\n",
              "      <td>30497.000000</td>\n",
              "      <td>23623.000000</td>\n",
              "    </tr>\n",
              "    <tr>\n",
              "      <th>max</th>\n",
              "      <td>31497.000000</td>\n",
              "      <td>99921.000000</td>\n",
              "      <td>-67.266033</td>\n",
              "      <td>30340.000000</td>\n",
              "      <td>NaN</td>\n",
              "      <td>10895.0</td>\n",
              "      <td>31497.000000</td>\n",
              "      <td>31497.000000</td>\n",
              "    </tr>\n",
              "  </tbody>\n",
              "</table>\n",
              "</div>\n",
              "      <button class=\"colab-df-convert\" onclick=\"convertToInteractive('df-3588fe1f-8c8c-4cb6-a826-1f3b8403ebde')\"\n",
              "              title=\"Convert this dataframe to an interactive table.\"\n",
              "              style=\"display:none;\">\n",
              "        \n",
              "  <svg xmlns=\"http://www.w3.org/2000/svg\" height=\"24px\"viewBox=\"0 0 24 24\"\n",
              "       width=\"24px\">\n",
              "    <path d=\"M0 0h24v24H0V0z\" fill=\"none\"/>\n",
              "    <path d=\"M18.56 5.44l.94 2.06.94-2.06 2.06-.94-2.06-.94-.94-2.06-.94 2.06-2.06.94zm-11 1L8.5 8.5l.94-2.06 2.06-.94-2.06-.94L8.5 2.5l-.94 2.06-2.06.94zm10 10l.94 2.06.94-2.06 2.06-.94-2.06-.94-.94-2.06-.94 2.06-2.06.94z\"/><path d=\"M17.41 7.96l-1.37-1.37c-.4-.4-.92-.59-1.43-.59-.52 0-1.04.2-1.43.59L10.3 9.45l-7.72 7.72c-.78.78-.78 2.05 0 2.83L4 21.41c.39.39.9.59 1.41.59.51 0 1.02-.2 1.41-.59l7.78-7.78 2.81-2.81c.8-.78.8-2.07 0-2.86zM5.41 20L4 18.59l7.72-7.72 1.47 1.35L5.41 20z\"/>\n",
              "  </svg>\n",
              "      </button>\n",
              "      \n",
              "  <style>\n",
              "    .colab-df-container {\n",
              "      display:flex;\n",
              "      flex-wrap:wrap;\n",
              "      gap: 12px;\n",
              "    }\n",
              "\n",
              "    .colab-df-convert {\n",
              "      background-color: #E8F0FE;\n",
              "      border: none;\n",
              "      border-radius: 50%;\n",
              "      cursor: pointer;\n",
              "      display: none;\n",
              "      fill: #1967D2;\n",
              "      height: 32px;\n",
              "      padding: 0 0 0 0;\n",
              "      width: 32px;\n",
              "    }\n",
              "\n",
              "    .colab-df-convert:hover {\n",
              "      background-color: #E2EBFA;\n",
              "      box-shadow: 0px 1px 2px rgba(60, 64, 67, 0.3), 0px 1px 3px 1px rgba(60, 64, 67, 0.15);\n",
              "      fill: #174EA6;\n",
              "    }\n",
              "\n",
              "    [theme=dark] .colab-df-convert {\n",
              "      background-color: #3B4455;\n",
              "      fill: #D2E3FC;\n",
              "    }\n",
              "\n",
              "    [theme=dark] .colab-df-convert:hover {\n",
              "      background-color: #434B5C;\n",
              "      box-shadow: 0px 1px 3px 1px rgba(0, 0, 0, 0.15);\n",
              "      filter: drop-shadow(0px 1px 2px rgba(0, 0, 0, 0.3));\n",
              "      fill: #FFFFFF;\n",
              "    }\n",
              "  </style>\n",
              "\n",
              "      <script>\n",
              "        const buttonEl =\n",
              "          document.querySelector('#df-3588fe1f-8c8c-4cb6-a826-1f3b8403ebde button.colab-df-convert');\n",
              "        buttonEl.style.display =\n",
              "          google.colab.kernel.accessAllowed ? 'block' : 'none';\n",
              "\n",
              "        async function convertToInteractive(key) {\n",
              "          const element = document.querySelector('#df-3588fe1f-8c8c-4cb6-a826-1f3b8403ebde');\n",
              "          const dataTable =\n",
              "            await google.colab.kernel.invokeFunction('convertToInteractive',\n",
              "                                                     [key], {});\n",
              "          if (!dataTable) return;\n",
              "\n",
              "          const docLinkHtml = 'Like what you see? Visit the ' +\n",
              "            '<a target=\"_blank\" href=https://colab.research.google.com/notebooks/data_table.ipynb>data table notebook</a>'\n",
              "            + ' to learn more about interactive tables.';\n",
              "          element.innerHTML = '';\n",
              "          dataTable['output_type'] = 'display_data';\n",
              "          await google.colab.output.renderOutput(dataTable, element);\n",
              "          const docLink = document.createElement('div');\n",
              "          docLink.innerHTML = docLinkHtml;\n",
              "          element.appendChild(docLink);\n",
              "        }\n",
              "      </script>\n",
              "    </div>\n",
              "  </div>\n",
              "  "
            ]
          },
          "metadata": {},
          "execution_count": 107
        }
      ]
    },
    {
      "cell_type": "code",
      "source": [
        "df2.isnull().sum()"
      ],
      "metadata": {
        "colab": {
          "base_uri": "https://localhost:8080/"
        },
        "id": "ormypfc8lsVA",
        "outputId": "2e8cd624-da69-4ea6-96fb-9cea85a3dafd"
      },
      "execution_count": null,
      "outputs": [
        {
          "output_type": "execute_result",
          "data": {
            "text/plain": [
              "Unique ID                                                              1\n",
              "Name                                                                   0\n",
              "Age                                                                 1221\n",
              "Gender                                                               144\n",
              "Race                                                                   1\n",
              "Race with imputations                                                869\n",
              "Imputation probability                                               885\n",
              "URL of image (PLS NO HOTLINKS)                                     16773\n",
              " Date of injury resulting in death (month/day/year)                    0\n",
              "Location of injury (address)                                         557\n",
              "Location of death (city)                                              36\n",
              "State                                                                  1\n",
              "Location of death (zip code)                                         182\n",
              "Location of death (county)                                            15\n",
              "Full Address                                                           1\n",
              "Latitude                                                               1\n",
              "Longitude                                                              1\n",
              "Agency or agencies involved                                           78\n",
              "Highest level of force                                                 4\n",
              "UID Temporary                                                      25969\n",
              "Name Temporary                                                     25969\n",
              "Armed/Unarmed                                                      14419\n",
              "Alleged weapon                                                     14421\n",
              "Aggressive physical movement                                       14418\n",
              "Fleeing/Not fleeing                                                14419\n",
              "Description Temp                                                   27431\n",
              "URL Temp                                                           28281\n",
              "Brief description                                                      2\n",
              "Dispositions/Exclusions INTERNAL USE, NOT FOR ANALYSIS                 3\n",
              "Intended use of force (Developing)                                     3\n",
              "Supporting document link                                               2\n",
              "Foreknowledge of mental illness? INTERNAL USE, NOT FOR ANALYSIS       62\n",
              "Unnamed: 32                                                        31498\n",
              "Unnamed: 33                                                        31497\n",
              "Unique ID formula                                                  31496\n",
              "Unique identifier (redundant)                                          1\n",
              "dtype: int64"
            ]
          },
          "metadata": {},
          "execution_count": 108
        }
      ]
    },
    {
      "cell_type": "code",
      "source": [
        "df2.shape"
      ],
      "metadata": {
        "colab": {
          "base_uri": "https://localhost:8080/"
        },
        "id": "uqwiUP8Al25t",
        "outputId": "fbcc4903-ea41-4e31-b635-5493d9e1053b"
      },
      "execution_count": null,
      "outputs": [
        {
          "output_type": "execute_result",
          "data": {
            "text/plain": [
              "(31498, 36)"
            ]
          },
          "metadata": {},
          "execution_count": 109
        }
      ]
    },
    {
      "cell_type": "code",
      "source": [
        "df2.head()"
      ],
      "metadata": {
        "colab": {
          "base_uri": "https://localhost:8080/",
          "height": 716
        },
        "id": "w-RhOC7Cuu0I",
        "outputId": "ab7259ac-89c3-4a0d-b96d-1abde289387a"
      },
      "execution_count": null,
      "outputs": [
        {
          "output_type": "execute_result",
          "data": {
            "text/plain": [
              "   Unique ID                     Name   Age  Gender                     Race  \\\n",
              "0    31495.0         Ashley McClendon  28.0  Female   African-American/Black   \n",
              "1    31496.0  Name withheld by police   NaN  Female         Race unspecified   \n",
              "2    31497.0  Name withheld by police   NaN    Male         Race unspecified   \n",
              "3    31491.0     Johnny C. Martin Jr.  36.0    Male         Race unspecified   \n",
              "4    31492.0            Dennis McHugh  44.0    Male  European-American/White   \n",
              "\n",
              "    Race with imputations Imputation probability  \\\n",
              "0  African-American/Black            Not imputed   \n",
              "1                     NaN                    NaN   \n",
              "2                     NaN                    NaN   \n",
              "3                     NaN                    NaN   \n",
              "4                     NaN                    NaN   \n",
              "\n",
              "                      URL of image (PLS NO HOTLINKS)  \\\n",
              "0  https://fatalencounters.org/wp-content/uploads...   \n",
              "1                                                NaN   \n",
              "2                                                NaN   \n",
              "3                                                NaN   \n",
              "4                                                NaN   \n",
              "\n",
              "   Date of injury resulting in death (month/day/year)  \\\n",
              "0                                         12/31/2021    \n",
              "1                                         12/31/2021    \n",
              "2                                         12/31/2021    \n",
              "3                                         12/30/2021    \n",
              "4                                         12/30/2021    \n",
              "\n",
              "       Location of injury (address)  ... URL Temp  \\\n",
              "0  South Pearl Street and Tory Road  ...      NaN   \n",
              "1                  1500 21st Street  ...      NaN   \n",
              "2                  1500 21st Street  ...      NaN   \n",
              "3                     Martinez Lane  ...      NaN   \n",
              "4                  435 E 4th Street  ...      NaN   \n",
              "\n",
              "                                   Brief description  \\\n",
              "0  Ashley McClendon's boyfriend, 33-year-old Marc...   \n",
              "1  Police responded to a man causing a disturbanc...   \n",
              "2  Police responded to a man causing a disturbanc...   \n",
              "3  Johnny C. Martin, Jr. arrived at a gas station...   \n",
              "4  Deputies responded to a domestic violence call...   \n",
              "\n",
              "   Dispositions/Exclusions INTERNAL USE, NOT FOR ANALYSIS  \\\n",
              "0                                           Criminal        \n",
              "1                              Pending investigation        \n",
              "2                              Pending investigation        \n",
              "3                                            Suicide        \n",
              "4                              Pending investigation        \n",
              "\n",
              "  Intended use of force (Developing)  \\\n",
              "0                            Pursuit   \n",
              "1                       Deadly force   \n",
              "2                       Deadly force   \n",
              "3                            Suicide   \n",
              "4                       Deadly force   \n",
              "\n",
              "                            Supporting document link  \\\n",
              "0  https://www.wsoctv.com/news/1-person-dead-afte...   \n",
              "1  https://www.wtok.com/2022/01/01/officer-involv...   \n",
              "2  https://www.wtok.com/2022/01/01/officer-involv...   \n",
              "3  https://gbi.georgia.gov/press-releases/2021-12...   \n",
              "4  https://kesq.com/news/2021/12/31/officer-invol...   \n",
              "\n",
              "  Foreknowledge of mental illness? INTERNAL USE, NOT FOR ANALYSIS  \\\n",
              "0                                                 No                \n",
              "1                                                 No                \n",
              "2                                                 No                \n",
              "3                                                 No                \n",
              "4                                                 No                \n",
              "\n",
              "   Unnamed: 32 Unnamed: 33 Unique ID formula  Unique identifier (redundant)  \n",
              "0          NaN         NaN               NaN                        31495.0  \n",
              "1          NaN         NaN               NaN                        31496.0  \n",
              "2          NaN         NaN               NaN                        31497.0  \n",
              "3          NaN         NaN               NaN                        31491.0  \n",
              "4          NaN         NaN               NaN                        31492.0  \n",
              "\n",
              "[5 rows x 36 columns]"
            ],
            "text/html": [
              "\n",
              "  <div id=\"df-82c2cb13-8412-4052-930f-3b179710ed2a\">\n",
              "    <div class=\"colab-df-container\">\n",
              "      <div>\n",
              "<style scoped>\n",
              "    .dataframe tbody tr th:only-of-type {\n",
              "        vertical-align: middle;\n",
              "    }\n",
              "\n",
              "    .dataframe tbody tr th {\n",
              "        vertical-align: top;\n",
              "    }\n",
              "\n",
              "    .dataframe thead th {\n",
              "        text-align: right;\n",
              "    }\n",
              "</style>\n",
              "<table border=\"1\" class=\"dataframe\">\n",
              "  <thead>\n",
              "    <tr style=\"text-align: right;\">\n",
              "      <th></th>\n",
              "      <th>Unique ID</th>\n",
              "      <th>Name</th>\n",
              "      <th>Age</th>\n",
              "      <th>Gender</th>\n",
              "      <th>Race</th>\n",
              "      <th>Race with imputations</th>\n",
              "      <th>Imputation probability</th>\n",
              "      <th>URL of image (PLS NO HOTLINKS)</th>\n",
              "      <th>Date of injury resulting in death (month/day/year)</th>\n",
              "      <th>Location of injury (address)</th>\n",
              "      <th>...</th>\n",
              "      <th>URL Temp</th>\n",
              "      <th>Brief description</th>\n",
              "      <th>Dispositions/Exclusions INTERNAL USE, NOT FOR ANALYSIS</th>\n",
              "      <th>Intended use of force (Developing)</th>\n",
              "      <th>Supporting document link</th>\n",
              "      <th>Foreknowledge of mental illness? INTERNAL USE, NOT FOR ANALYSIS</th>\n",
              "      <th>Unnamed: 32</th>\n",
              "      <th>Unnamed: 33</th>\n",
              "      <th>Unique ID formula</th>\n",
              "      <th>Unique identifier (redundant)</th>\n",
              "    </tr>\n",
              "  </thead>\n",
              "  <tbody>\n",
              "    <tr>\n",
              "      <th>0</th>\n",
              "      <td>31495.0</td>\n",
              "      <td>Ashley McClendon</td>\n",
              "      <td>28.0</td>\n",
              "      <td>Female</td>\n",
              "      <td>African-American/Black</td>\n",
              "      <td>African-American/Black</td>\n",
              "      <td>Not imputed</td>\n",
              "      <td>https://fatalencounters.org/wp-content/uploads...</td>\n",
              "      <td>12/31/2021</td>\n",
              "      <td>South Pearl Street and Tory Road</td>\n",
              "      <td>...</td>\n",
              "      <td>NaN</td>\n",
              "      <td>Ashley McClendon's boyfriend, 33-year-old Marc...</td>\n",
              "      <td>Criminal</td>\n",
              "      <td>Pursuit</td>\n",
              "      <td>https://www.wsoctv.com/news/1-person-dead-afte...</td>\n",
              "      <td>No</td>\n",
              "      <td>NaN</td>\n",
              "      <td>NaN</td>\n",
              "      <td>NaN</td>\n",
              "      <td>31495.0</td>\n",
              "    </tr>\n",
              "    <tr>\n",
              "      <th>1</th>\n",
              "      <td>31496.0</td>\n",
              "      <td>Name withheld by police</td>\n",
              "      <td>NaN</td>\n",
              "      <td>Female</td>\n",
              "      <td>Race unspecified</td>\n",
              "      <td>NaN</td>\n",
              "      <td>NaN</td>\n",
              "      <td>NaN</td>\n",
              "      <td>12/31/2021</td>\n",
              "      <td>1500 21st Street</td>\n",
              "      <td>...</td>\n",
              "      <td>NaN</td>\n",
              "      <td>Police responded to a man causing a disturbanc...</td>\n",
              "      <td>Pending investigation</td>\n",
              "      <td>Deadly force</td>\n",
              "      <td>https://www.wtok.com/2022/01/01/officer-involv...</td>\n",
              "      <td>No</td>\n",
              "      <td>NaN</td>\n",
              "      <td>NaN</td>\n",
              "      <td>NaN</td>\n",
              "      <td>31496.0</td>\n",
              "    </tr>\n",
              "    <tr>\n",
              "      <th>2</th>\n",
              "      <td>31497.0</td>\n",
              "      <td>Name withheld by police</td>\n",
              "      <td>NaN</td>\n",
              "      <td>Male</td>\n",
              "      <td>Race unspecified</td>\n",
              "      <td>NaN</td>\n",
              "      <td>NaN</td>\n",
              "      <td>NaN</td>\n",
              "      <td>12/31/2021</td>\n",
              "      <td>1500 21st Street</td>\n",
              "      <td>...</td>\n",
              "      <td>NaN</td>\n",
              "      <td>Police responded to a man causing a disturbanc...</td>\n",
              "      <td>Pending investigation</td>\n",
              "      <td>Deadly force</td>\n",
              "      <td>https://www.wtok.com/2022/01/01/officer-involv...</td>\n",
              "      <td>No</td>\n",
              "      <td>NaN</td>\n",
              "      <td>NaN</td>\n",
              "      <td>NaN</td>\n",
              "      <td>31497.0</td>\n",
              "    </tr>\n",
              "    <tr>\n",
              "      <th>3</th>\n",
              "      <td>31491.0</td>\n",
              "      <td>Johnny C. Martin Jr.</td>\n",
              "      <td>36.0</td>\n",
              "      <td>Male</td>\n",
              "      <td>Race unspecified</td>\n",
              "      <td>NaN</td>\n",
              "      <td>NaN</td>\n",
              "      <td>NaN</td>\n",
              "      <td>12/30/2021</td>\n",
              "      <td>Martinez Lane</td>\n",
              "      <td>...</td>\n",
              "      <td>NaN</td>\n",
              "      <td>Johnny C. Martin, Jr. arrived at a gas station...</td>\n",
              "      <td>Suicide</td>\n",
              "      <td>Suicide</td>\n",
              "      <td>https://gbi.georgia.gov/press-releases/2021-12...</td>\n",
              "      <td>No</td>\n",
              "      <td>NaN</td>\n",
              "      <td>NaN</td>\n",
              "      <td>NaN</td>\n",
              "      <td>31491.0</td>\n",
              "    </tr>\n",
              "    <tr>\n",
              "      <th>4</th>\n",
              "      <td>31492.0</td>\n",
              "      <td>Dennis McHugh</td>\n",
              "      <td>44.0</td>\n",
              "      <td>Male</td>\n",
              "      <td>European-American/White</td>\n",
              "      <td>NaN</td>\n",
              "      <td>NaN</td>\n",
              "      <td>NaN</td>\n",
              "      <td>12/30/2021</td>\n",
              "      <td>435 E 4th Street</td>\n",
              "      <td>...</td>\n",
              "      <td>NaN</td>\n",
              "      <td>Deputies responded to a domestic violence call...</td>\n",
              "      <td>Pending investigation</td>\n",
              "      <td>Deadly force</td>\n",
              "      <td>https://kesq.com/news/2021/12/31/officer-invol...</td>\n",
              "      <td>No</td>\n",
              "      <td>NaN</td>\n",
              "      <td>NaN</td>\n",
              "      <td>NaN</td>\n",
              "      <td>31492.0</td>\n",
              "    </tr>\n",
              "  </tbody>\n",
              "</table>\n",
              "<p>5 rows × 36 columns</p>\n",
              "</div>\n",
              "      <button class=\"colab-df-convert\" onclick=\"convertToInteractive('df-82c2cb13-8412-4052-930f-3b179710ed2a')\"\n",
              "              title=\"Convert this dataframe to an interactive table.\"\n",
              "              style=\"display:none;\">\n",
              "        \n",
              "  <svg xmlns=\"http://www.w3.org/2000/svg\" height=\"24px\"viewBox=\"0 0 24 24\"\n",
              "       width=\"24px\">\n",
              "    <path d=\"M0 0h24v24H0V0z\" fill=\"none\"/>\n",
              "    <path d=\"M18.56 5.44l.94 2.06.94-2.06 2.06-.94-2.06-.94-.94-2.06-.94 2.06-2.06.94zm-11 1L8.5 8.5l.94-2.06 2.06-.94-2.06-.94L8.5 2.5l-.94 2.06-2.06.94zm10 10l.94 2.06.94-2.06 2.06-.94-2.06-.94-.94-2.06-.94 2.06-2.06.94z\"/><path d=\"M17.41 7.96l-1.37-1.37c-.4-.4-.92-.59-1.43-.59-.52 0-1.04.2-1.43.59L10.3 9.45l-7.72 7.72c-.78.78-.78 2.05 0 2.83L4 21.41c.39.39.9.59 1.41.59.51 0 1.02-.2 1.41-.59l7.78-7.78 2.81-2.81c.8-.78.8-2.07 0-2.86zM5.41 20L4 18.59l7.72-7.72 1.47 1.35L5.41 20z\"/>\n",
              "  </svg>\n",
              "      </button>\n",
              "      \n",
              "  <style>\n",
              "    .colab-df-container {\n",
              "      display:flex;\n",
              "      flex-wrap:wrap;\n",
              "      gap: 12px;\n",
              "    }\n",
              "\n",
              "    .colab-df-convert {\n",
              "      background-color: #E8F0FE;\n",
              "      border: none;\n",
              "      border-radius: 50%;\n",
              "      cursor: pointer;\n",
              "      display: none;\n",
              "      fill: #1967D2;\n",
              "      height: 32px;\n",
              "      padding: 0 0 0 0;\n",
              "      width: 32px;\n",
              "    }\n",
              "\n",
              "    .colab-df-convert:hover {\n",
              "      background-color: #E2EBFA;\n",
              "      box-shadow: 0px 1px 2px rgba(60, 64, 67, 0.3), 0px 1px 3px 1px rgba(60, 64, 67, 0.15);\n",
              "      fill: #174EA6;\n",
              "    }\n",
              "\n",
              "    [theme=dark] .colab-df-convert {\n",
              "      background-color: #3B4455;\n",
              "      fill: #D2E3FC;\n",
              "    }\n",
              "\n",
              "    [theme=dark] .colab-df-convert:hover {\n",
              "      background-color: #434B5C;\n",
              "      box-shadow: 0px 1px 3px 1px rgba(0, 0, 0, 0.15);\n",
              "      filter: drop-shadow(0px 1px 2px rgba(0, 0, 0, 0.3));\n",
              "      fill: #FFFFFF;\n",
              "    }\n",
              "  </style>\n",
              "\n",
              "      <script>\n",
              "        const buttonEl =\n",
              "          document.querySelector('#df-82c2cb13-8412-4052-930f-3b179710ed2a button.colab-df-convert');\n",
              "        buttonEl.style.display =\n",
              "          google.colab.kernel.accessAllowed ? 'block' : 'none';\n",
              "\n",
              "        async function convertToInteractive(key) {\n",
              "          const element = document.querySelector('#df-82c2cb13-8412-4052-930f-3b179710ed2a');\n",
              "          const dataTable =\n",
              "            await google.colab.kernel.invokeFunction('convertToInteractive',\n",
              "                                                     [key], {});\n",
              "          if (!dataTable) return;\n",
              "\n",
              "          const docLinkHtml = 'Like what you see? Visit the ' +\n",
              "            '<a target=\"_blank\" href=https://colab.research.google.com/notebooks/data_table.ipynb>data table notebook</a>'\n",
              "            + ' to learn more about interactive tables.';\n",
              "          element.innerHTML = '';\n",
              "          dataTable['output_type'] = 'display_data';\n",
              "          await google.colab.output.renderOutput(dataTable, element);\n",
              "          const docLink = document.createElement('div');\n",
              "          docLink.innerHTML = docLinkHtml;\n",
              "          element.appendChild(docLink);\n",
              "        }\n",
              "      </script>\n",
              "    </div>\n",
              "  </div>\n",
              "  "
            ]
          },
          "metadata": {},
          "execution_count": 110
        }
      ]
    },
    {
      "cell_type": "code",
      "source": [
        "df2[' Date of injury resulting in death (month/day/year)'].min()"
      ],
      "metadata": {
        "colab": {
          "base_uri": "https://localhost:8080/",
          "height": 36
        },
        "id": "-vpvkhOAuwFe",
        "outputId": "6b82ff73-ca6c-4deb-aea8-830b0376263f"
      },
      "execution_count": null,
      "outputs": [
        {
          "output_type": "execute_result",
          "data": {
            "text/plain": [
              "'01/01/2000'"
            ],
            "application/vnd.google.colaboratory.intrinsic+json": {
              "type": "string"
            }
          },
          "metadata": {},
          "execution_count": 112
        }
      ]
    },
    {
      "cell_type": "code",
      "source": [],
      "metadata": {
        "id": "z7V1Nvd1u-pZ"
      },
      "execution_count": null,
      "outputs": []
    }
  ]
}